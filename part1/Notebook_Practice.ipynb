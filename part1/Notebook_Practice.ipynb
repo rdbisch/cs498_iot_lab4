{
 "cells": [
  {
   "cell_type": "markdown",
   "metadata": {},
   "source": [
    "# Markdown\n",
    "This is a markdown cell where we write instructions and math formulas. **Double click** to edit and **press Run** to see the formatted texts."
   ]
  },
  {
   "cell_type": "markdown",
   "metadata": {},
   "source": [
    "# Load and Save Notebook\n",
    "To load a note book, just go to \"File\" and navigate to \"Open...\". Use keyboard shortcut **Cmd/Ctrl+s** to save the file. You will be saving a checkpoint as well if you use this keyboard shortcut. You can click on \"File\" on the menu bar and select an option to revert to a certain checkpoint. Jupyter Notebook will also autosave your file every 120s, but it's still a good practice to press **Cmd/Ctrl+s** often when you write programs. "
   ]
  },
  {
   "cell_type": "markdown",
   "metadata": {},
   "source": [
    "# Code Blocks\n",
    "Below will be an example of a Python code block. Hit **Run** to run the block."
   ]
  },
  {
   "cell_type": "code",
   "execution_count": 1,
   "metadata": {},
   "outputs": [
    {
     "name": "stdout",
     "output_type": "stream",
     "text": [
      "Hello world!\n"
     ]
    }
   ],
   "source": [
    "print(\"Hello world!\")"
   ]
  },
  {
   "cell_type": "markdown",
   "metadata": {},
   "source": [
    "You can also hit **Run All** in \"Cell\" menu. To run every blocks. "
   ]
  },
  {
   "cell_type": "code",
   "execution_count": 2,
   "metadata": {},
   "outputs": [
    {
     "name": "stdout",
     "output_type": "stream",
     "text": [
      "Hello world, again!\n"
     ]
    }
   ],
   "source": [
    "print(\"Hello world, again!\")"
   ]
  },
  {
   "cell_type": "markdown",
   "metadata": {},
   "source": [
    "# Python Programming\n",
    "We have finished Jupyter Notebook introduction. Below we will start Python Programming."
   ]
  },
  {
   "cell_type": "markdown",
   "metadata": {},
   "source": [
    "## Importing Libraries\n",
    "For the lab, we will be using different libraries. This is how you do it in Python."
   ]
  },
  {
   "cell_type": "code",
   "execution_count": 3,
   "metadata": {},
   "outputs": [],
   "source": [
    "import pandas as pd\n",
    "import numpy as np"
   ]
  },
  {
   "cell_type": "markdown",
   "metadata": {},
   "source": [
    "By importing pandas as pd, you can use the shorthand `pd` when you need to use pandas. The same method applies to `np`."
   ]
  },
  {
   "cell_type": "markdown",
   "metadata": {},
   "source": [
    "## NumPy Tutorial\n",
    "Below we show you a few ways to create arrays."
   ]
  },
  {
   "cell_type": "code",
   "execution_count": 4,
   "metadata": {},
   "outputs": [
    {
     "name": "stdout",
     "output_type": "stream",
     "text": [
      "x:\n",
      " [0 1 2 3]\n",
      "y:\n",
      " [[0 1 2 3]\n",
      " [4 5 6 7]]\n",
      "z:\n",
      " [[0. 0. 0. 0.]\n",
      " [0. 0. 0. 0.]\n",
      " [0. 0. 0. 0.]]\n",
      "a:\n",
      " [[1. 1. 1. 1. 1.]\n",
      " [1. 1. 1. 1. 1.]\n",
      " [1. 1. 1. 1. 1.]\n",
      " [1. 1. 1. 1. 1.]\n",
      " [1. 1. 1. 1. 1.]]\n",
      "b:\n",
      " [ 0  2  4  6  8 10 12 14 16 18]\n",
      "c:\n",
      " [[ 0.  2.  4.  6.  8.]\n",
      " [10. 12. 14. 16. 18.]]\n",
      "d:\n",
      " [[0.01043392 0.27136147 0.8516948 ]\n",
      " [0.61517377 0.09017255 0.87724232]\n",
      " [0.71287234 0.66720175 0.78703106]\n",
      " [0.38180917 0.88074736 0.25719089]\n",
      " [0.29094915 0.45519366 0.94813764]\n",
      " [0.13283727 0.82504084 0.61680693]]\n",
      "New d:\n",
      " [[1.03130177 1.81408441 3.55508439]\n",
      " [2.84552131 1.27051766 3.63172697]\n",
      " [3.13861702 3.00160526 3.36109319]\n",
      " [2.14542751 3.64224208 1.77157268]\n",
      " [1.87284744 2.36558099 3.84441291]\n",
      " [1.39851182 3.47512253 2.85042078]]\n",
      "e:\n",
      " [[11.03130177 11.81408441 13.55508439]\n",
      " [12.84552131 11.27051766 13.63172697]\n",
      " [13.13861702 13.00160526 13.36109319]\n",
      " [12.14542751 13.64224208 11.77157268]\n",
      " [11.87284744 12.36558099 13.84441291]\n",
      " [11.39851182 13.47512253 12.85042078]]\n"
     ]
    }
   ],
   "source": [
    "# Create a basic array\n",
    "x = np.array([0, 1, 2, 3])\n",
    "print(\"x:\\n\", x)\n",
    "\n",
    "# Create a 2D array\n",
    "y = np.array([[0, 1, 2, 3],\n",
    "              [4, 5, 6, 7]])\n",
    "print(\"y:\\n\", y)\n",
    "\n",
    "# Create a 3 by 4 empty array\n",
    "z = np.zeros((3, 4))\n",
    "print(\"z:\\n\", z)\n",
    "\n",
    "# Create a 5 by 5 array filled with 1s\n",
    "a = np.ones((5, 5))\n",
    "print(\"a:\\n\", a)\n",
    "\n",
    "# Create a sequence of numbers, note the array does not include 20\n",
    "b = np.arange(0, 20, 2)\n",
    "print(\"b:\\n\", b)\n",
    "\n",
    "# Use reshape to change the dimention of the array\n",
    "c = np.arange(0, 20, 2, dtype=float).reshape(2, 5)\n",
    "print(\"c:\\n\", c)\n",
    "\n",
    "# Create a random 6 by 3 array with value between [0, 1).\n",
    "d = np.random.rand(6, 3)\n",
    "print(\"d:\\n\", d)\n",
    "    \n",
    "    # This creates random values ranging between [1, 4).\n",
    "d = d*3 + 1\n",
    "print(\"New d:\\n\", d)\n",
    "\n",
    "# Operations\n",
    "e = d + 10\n",
    "print(\"e:\\n\", e)"
   ]
  },
  {
   "cell_type": "markdown",
   "metadata": {},
   "source": [
    "**Now it's your turn.** \n",
    "\n",
    "**To-do:**\n",
    "1. Create and print out an empty array with dimensions of 15 by 29.\n",
    "2. From the 0 array you created, make it to an ones array without using np.ones. Print out the array.\n",
    "3. Create an 8 by 9 array with values between $[5, 11)$. Note that 11 is excluded. Print out the array.\n",
    "\n"
   ]
  },
  {
   "cell_type": "code",
   "execution_count": 5,
   "metadata": {},
   "outputs": [],
   "source": [
    "### Insert code below ###\n",
    "foo = np.zeros((15, 29))\n",
    "bar = foo + 1\n",
    "baz = np.arange(5, 11, 1).repeat(12).reshape((8, 9))"
   ]
  },
  {
   "cell_type": "code",
   "execution_count": 6,
   "metadata": {},
   "outputs": [
    {
     "name": "stdout",
     "output_type": "stream",
     "text": [
      "[[1. 1. 1. 1. 1. 1. 1. 1. 1. 1. 1. 1. 1. 1. 1. 1. 1. 1. 1. 1. 1. 1. 1. 1.\n",
      "  1. 1. 1. 1. 1.]\n",
      " [1. 1. 1. 1. 1. 1. 1. 1. 1. 1. 1. 1. 1. 1. 1. 1. 1. 1. 1. 1. 1. 1. 1. 1.\n",
      "  1. 1. 1. 1. 1.]\n",
      " [1. 1. 1. 1. 1. 1. 1. 1. 1. 1. 1. 1. 1. 1. 1. 1. 1. 1. 1. 1. 1. 1. 1. 1.\n",
      "  1. 1. 1. 1. 1.]\n",
      " [1. 1. 1. 1. 1. 1. 1. 1. 1. 1. 1. 1. 1. 1. 1. 1. 1. 1. 1. 1. 1. 1. 1. 1.\n",
      "  1. 1. 1. 1. 1.]\n",
      " [1. 1. 1. 1. 1. 1. 1. 1. 1. 1. 1. 1. 1. 1. 1. 1. 1. 1. 1. 1. 1. 1. 1. 1.\n",
      "  1. 1. 1. 1. 1.]\n",
      " [1. 1. 1. 1. 1. 1. 1. 1. 1. 1. 1. 1. 1. 1. 1. 1. 1. 1. 1. 1. 1. 1. 1. 1.\n",
      "  1. 1. 1. 1. 1.]\n",
      " [1. 1. 1. 1. 1. 1. 1. 1. 1. 1. 1. 1. 1. 1. 1. 1. 1. 1. 1. 1. 1. 1. 1. 1.\n",
      "  1. 1. 1. 1. 1.]\n",
      " [1. 1. 1. 1. 1. 1. 1. 1. 1. 1. 1. 1. 1. 1. 1. 1. 1. 1. 1. 1. 1. 1. 1. 1.\n",
      "  1. 1. 1. 1. 1.]\n",
      " [1. 1. 1. 1. 1. 1. 1. 1. 1. 1. 1. 1. 1. 1. 1. 1. 1. 1. 1. 1. 1. 1. 1. 1.\n",
      "  1. 1. 1. 1. 1.]\n",
      " [1. 1. 1. 1. 1. 1. 1. 1. 1. 1. 1. 1. 1. 1. 1. 1. 1. 1. 1. 1. 1. 1. 1. 1.\n",
      "  1. 1. 1. 1. 1.]\n",
      " [1. 1. 1. 1. 1. 1. 1. 1. 1. 1. 1. 1. 1. 1. 1. 1. 1. 1. 1. 1. 1. 1. 1. 1.\n",
      "  1. 1. 1. 1. 1.]\n",
      " [1. 1. 1. 1. 1. 1. 1. 1. 1. 1. 1. 1. 1. 1. 1. 1. 1. 1. 1. 1. 1. 1. 1. 1.\n",
      "  1. 1. 1. 1. 1.]\n",
      " [1. 1. 1. 1. 1. 1. 1. 1. 1. 1. 1. 1. 1. 1. 1. 1. 1. 1. 1. 1. 1. 1. 1. 1.\n",
      "  1. 1. 1. 1. 1.]\n",
      " [1. 1. 1. 1. 1. 1. 1. 1. 1. 1. 1. 1. 1. 1. 1. 1. 1. 1. 1. 1. 1. 1. 1. 1.\n",
      "  1. 1. 1. 1. 1.]\n",
      " [1. 1. 1. 1. 1. 1. 1. 1. 1. 1. 1. 1. 1. 1. 1. 1. 1. 1. 1. 1. 1. 1. 1. 1.\n",
      "  1. 1. 1. 1. 1.]]\n"
     ]
    }
   ],
   "source": [
    "print(bar)"
   ]
  },
  {
   "cell_type": "code",
   "execution_count": 7,
   "metadata": {},
   "outputs": [
    {
     "data": {
      "text/plain": [
       "array([[ 5,  5,  5,  5,  5,  5,  5,  5,  5],\n",
       "       [ 5,  5,  5,  6,  6,  6,  6,  6,  6],\n",
       "       [ 6,  6,  6,  6,  6,  6,  7,  7,  7],\n",
       "       [ 7,  7,  7,  7,  7,  7,  7,  7,  7],\n",
       "       [ 8,  8,  8,  8,  8,  8,  8,  8,  8],\n",
       "       [ 8,  8,  8,  9,  9,  9,  9,  9,  9],\n",
       "       [ 9,  9,  9,  9,  9,  9, 10, 10, 10],\n",
       "       [10, 10, 10, 10, 10, 10, 10, 10, 10]])"
      ]
     },
     "execution_count": 7,
     "metadata": {},
     "output_type": "execute_result"
    }
   ],
   "source": [
    "baz"
   ]
  },
  {
   "cell_type": "markdown",
   "metadata": {},
   "source": [
    "## Pandas Tutorial\n",
    "### Create Data Frame\n",
    "Pandas is a data frame that will be used to handel our data."
   ]
  },
  {
   "cell_type": "code",
   "execution_count": 8,
   "metadata": {},
   "outputs": [
    {
     "name": "stdout",
     "output_type": "stream",
     "text": [
      "df_1:\n",
      "    col 1  col 2  col 3  col 4\n",
      "0      0      1      2      3\n",
      "1      4      5      6      7 \n",
      "\n",
      "------------------------------------\n",
      "df_1 using display:\n"
     ]
    },
    {
     "data": {
      "text/html": [
       "<div>\n",
       "<style scoped>\n",
       "    .dataframe tbody tr th:only-of-type {\n",
       "        vertical-align: middle;\n",
       "    }\n",
       "\n",
       "    .dataframe tbody tr th {\n",
       "        vertical-align: top;\n",
       "    }\n",
       "\n",
       "    .dataframe thead th {\n",
       "        text-align: right;\n",
       "    }\n",
       "</style>\n",
       "<table border=\"1\" class=\"dataframe\">\n",
       "  <thead>\n",
       "    <tr style=\"text-align: right;\">\n",
       "      <th></th>\n",
       "      <th>col 1</th>\n",
       "      <th>col 2</th>\n",
       "      <th>col 3</th>\n",
       "      <th>col 4</th>\n",
       "    </tr>\n",
       "  </thead>\n",
       "  <tbody>\n",
       "    <tr>\n",
       "      <th>0</th>\n",
       "      <td>0</td>\n",
       "      <td>1</td>\n",
       "      <td>2</td>\n",
       "      <td>3</td>\n",
       "    </tr>\n",
       "    <tr>\n",
       "      <th>1</th>\n",
       "      <td>4</td>\n",
       "      <td>5</td>\n",
       "      <td>6</td>\n",
       "      <td>7</td>\n",
       "    </tr>\n",
       "  </tbody>\n",
       "</table>\n",
       "</div>"
      ],
      "text/plain": [
       "   col 1  col 2  col 3  col 4\n",
       "0      0      1      2      3\n",
       "1      4      5      6      7"
      ]
     },
     "metadata": {},
     "output_type": "display_data"
    },
    {
     "name": "stdout",
     "output_type": "stream",
     "text": [
      "------------------------------------\n",
      "df_2:\n",
      "   Aminal   Color  Age\n",
      "0    Dog  Yellow    1\n",
      "1    Cat    Pink    3 \n",
      "\n",
      "------------------------------------\n"
     ]
    },
    {
     "data": {
      "text/plain": [
       "Aminal    object\n",
       "Color     object\n",
       "Age        int64\n",
       "dtype: object"
      ]
     },
     "execution_count": 8,
     "metadata": {},
     "output_type": "execute_result"
    }
   ],
   "source": [
    "# Create a data frame from numpy array\n",
    "df_1 = pd.DataFrame(y, columns=['col 1', 'col 2', 'col 3', 'col 4'])\n",
    "print(\"df_1:\\n\", df_1, '\\n')\n",
    "print(\"------------------------------------\") # for readability only\n",
    "\n",
    "# You can also use display() to make the dataframe looks nicer at the output\n",
    "print(\"df_1 using display:\")\n",
    "display(df_1)\n",
    "print(\"------------------------------------\")\n",
    "\n",
    "# Create a data frame with strings\n",
    "data_2 = {'Aminal': ['Dog', 'Cat'], 'Color': ['Yellow', 'Pink'], 'Age': [1, 3]}\n",
    "df_2 = pd.DataFrame(data=data_2)\n",
    "print(\"df_2:\\n\", df_2, '\\n')\n",
    "print(\"------------------------------------\")\n",
    "\n",
    "# Print the type of the data. Notice that Age is int\n",
    "df_2.dtypes"
   ]
  },
  {
   "cell_type": "markdown",
   "metadata": {},
   "source": [
    "#### Now it's your turn. \n",
    "\n",
    "**To-do:**\n",
    "\n",
    "1. Create a data frame containing demographics of you and your 2 friends. The data frame should be 3 by 4. The columns will be 'Name', 'Age', 'Height', 'Hobby'. You can make up data if you like. Print or display the result. "
   ]
  },
  {
   "cell_type": "code",
   "execution_count": 9,
   "metadata": {},
   "outputs": [
    {
     "name": "stdout",
     "output_type": "stream",
     "text": [
      "       Name  Age  Height                    Hobby\n",
      "0      Rick   41      70                      IoT\n",
      "1      Bert   31      12                  Puppets\n",
      "2     Ernie   31       2                  Puppets\n",
      "3  Big Bird   12      86  Snuffleupagus Sightings\n"
     ]
    }
   ],
   "source": [
    "### Insert your code below ###\n",
    "friends = pd.DataFrame( {\"Name\": [\"Rick\", \"Bert\", \"Ernie\", \"Big Bird\"],\n",
    "                         \"Age\": [41, 31, 31, 12],\n",
    "                         \"Height\": [70, 12, 2, 86],\n",
    "                         \"Hobby\": [\"IoT\", \"Puppets\", \"Puppets\", \"Snuffleupagus Sightings\"]})\n",
    "\n",
    "\n",
    "print(friends)"
   ]
  },
  {
   "cell_type": "markdown",
   "metadata": {},
   "source": [
    "### Modify Data Frame\n",
    "Notice that when you use `=`, you are not copying data frame. You are just saying that `df_3` is now referring to the same data frame as `df_1`. If you change values in `df_3` you will change the values in `df_1` too, since both are referring to the same dataframe. Also notice that every time you click **Run** in this block, the values in `'col 1'` changes.  "
   ]
  },
  {
   "cell_type": "code",
   "execution_count": 10,
   "metadata": {},
   "outputs": [
    {
     "name": "stdout",
     "output_type": "stream",
     "text": [
      "New df_2:\n"
     ]
    },
    {
     "data": {
      "text/html": [
       "<div>\n",
       "<style scoped>\n",
       "    .dataframe tbody tr th:only-of-type {\n",
       "        vertical-align: middle;\n",
       "    }\n",
       "\n",
       "    .dataframe tbody tr th {\n",
       "        vertical-align: top;\n",
       "    }\n",
       "\n",
       "    .dataframe thead th {\n",
       "        text-align: right;\n",
       "    }\n",
       "</style>\n",
       "<table border=\"1\" class=\"dataframe\">\n",
       "  <thead>\n",
       "    <tr style=\"text-align: right;\">\n",
       "      <th></th>\n",
       "      <th>Aminal</th>\n",
       "      <th>Color</th>\n",
       "      <th>Age</th>\n",
       "      <th>Weight</th>\n",
       "    </tr>\n",
       "  </thead>\n",
       "  <tbody>\n",
       "    <tr>\n",
       "      <th>0</th>\n",
       "      <td>Dog</td>\n",
       "      <td>Yellow</td>\n",
       "      <td>1</td>\n",
       "      <td>89</td>\n",
       "    </tr>\n",
       "    <tr>\n",
       "      <th>1</th>\n",
       "      <td>Cat</td>\n",
       "      <td>Pink</td>\n",
       "      <td>3</td>\n",
       "      <td>60</td>\n",
       "    </tr>\n",
       "  </tbody>\n",
       "</table>\n",
       "</div>"
      ],
      "text/plain": [
       "  Aminal   Color  Age  Weight\n",
       "0    Dog  Yellow    1      89\n",
       "1    Cat    Pink    3      60"
      ]
     },
     "metadata": {},
     "output_type": "display_data"
    },
    {
     "name": "stdout",
     "output_type": "stream",
     "text": [
      "------------------------------------\n",
      "df_3:\n"
     ]
    },
    {
     "data": {
      "text/html": [
       "<div>\n",
       "<style scoped>\n",
       "    .dataframe tbody tr th:only-of-type {\n",
       "        vertical-align: middle;\n",
       "    }\n",
       "\n",
       "    .dataframe tbody tr th {\n",
       "        vertical-align: top;\n",
       "    }\n",
       "\n",
       "    .dataframe thead th {\n",
       "        text-align: right;\n",
       "    }\n",
       "</style>\n",
       "<table border=\"1\" class=\"dataframe\">\n",
       "  <thead>\n",
       "    <tr style=\"text-align: right;\">\n",
       "      <th></th>\n",
       "      <th>col 1</th>\n",
       "      <th>col 2</th>\n",
       "      <th>col 3</th>\n",
       "      <th>col 4</th>\n",
       "    </tr>\n",
       "  </thead>\n",
       "  <tbody>\n",
       "    <tr>\n",
       "      <th>0</th>\n",
       "      <td>-1</td>\n",
       "      <td>1</td>\n",
       "      <td>2</td>\n",
       "      <td>3</td>\n",
       "    </tr>\n",
       "    <tr>\n",
       "      <th>1</th>\n",
       "      <td>3</td>\n",
       "      <td>5</td>\n",
       "      <td>6</td>\n",
       "      <td>7</td>\n",
       "    </tr>\n",
       "  </tbody>\n",
       "</table>\n",
       "</div>"
      ],
      "text/plain": [
       "   col 1  col 2  col 3  col 4\n",
       "0     -1      1      2      3\n",
       "1      3      5      6      7"
      ]
     },
     "metadata": {},
     "output_type": "display_data"
    },
    {
     "name": "stdout",
     "output_type": "stream",
     "text": [
      "df_1:\n"
     ]
    },
    {
     "data": {
      "text/html": [
       "<div>\n",
       "<style scoped>\n",
       "    .dataframe tbody tr th:only-of-type {\n",
       "        vertical-align: middle;\n",
       "    }\n",
       "\n",
       "    .dataframe tbody tr th {\n",
       "        vertical-align: top;\n",
       "    }\n",
       "\n",
       "    .dataframe thead th {\n",
       "        text-align: right;\n",
       "    }\n",
       "</style>\n",
       "<table border=\"1\" class=\"dataframe\">\n",
       "  <thead>\n",
       "    <tr style=\"text-align: right;\">\n",
       "      <th></th>\n",
       "      <th>col 1</th>\n",
       "      <th>col 2</th>\n",
       "      <th>col 3</th>\n",
       "      <th>col 4</th>\n",
       "    </tr>\n",
       "  </thead>\n",
       "  <tbody>\n",
       "    <tr>\n",
       "      <th>0</th>\n",
       "      <td>-1</td>\n",
       "      <td>1</td>\n",
       "      <td>2</td>\n",
       "      <td>3</td>\n",
       "    </tr>\n",
       "    <tr>\n",
       "      <th>1</th>\n",
       "      <td>3</td>\n",
       "      <td>5</td>\n",
       "      <td>6</td>\n",
       "      <td>7</td>\n",
       "    </tr>\n",
       "  </tbody>\n",
       "</table>\n",
       "</div>"
      ],
      "text/plain": [
       "   col 1  col 2  col 3  col 4\n",
       "0     -1      1      2      3\n",
       "1      3      5      6      7"
      ]
     },
     "metadata": {},
     "output_type": "display_data"
    }
   ],
   "source": [
    "# Add a new column\n",
    "df_2['Weight'] = [89, 60]\n",
    "print(\"New df_2:\")\n",
    "display(df_2)\n",
    "print(\"------------------------------------\")\n",
    "\n",
    "# Special thing to take notice\n",
    "df_3 = df_1\n",
    "df_3['col 1'] = df_3['col 1'] - 1\n",
    "print(\"df_3:\")\n",
    "display(df_3)\n",
    "print(\"df_1:\")\n",
    "display(df_1)\n"
   ]
  },
  {
   "cell_type": "markdown",
   "metadata": {},
   "source": [
    "### Print Specific Data\n",
    "Here we use `.loc`, `.at` to obtain the cell values by providing the **labels** (e.g. 'Age', 'Weight'). For rows, since we do not create labels for them the defaults will be 0, 1, 2, 3...etc. We use `.iloc`, `.iat` to obtain the cell values by prividing the indicies (positions) of the rows and columns. "
   ]
  },
  {
   "cell_type": "code",
   "execution_count": 11,
   "metadata": {},
   "outputs": [
    {
     "name": "stdout",
     "output_type": "stream",
     "text": [
      "df_4:\n"
     ]
    },
    {
     "data": {
      "text/html": [
       "<div>\n",
       "<style scoped>\n",
       "    .dataframe tbody tr th:only-of-type {\n",
       "        vertical-align: middle;\n",
       "    }\n",
       "\n",
       "    .dataframe tbody tr th {\n",
       "        vertical-align: top;\n",
       "    }\n",
       "\n",
       "    .dataframe thead th {\n",
       "        text-align: right;\n",
       "    }\n",
       "</style>\n",
       "<table border=\"1\" class=\"dataframe\">\n",
       "  <thead>\n",
       "    <tr style=\"text-align: right;\">\n",
       "      <th></th>\n",
       "      <th>Aminal</th>\n",
       "      <th>Color</th>\n",
       "      <th>Age</th>\n",
       "    </tr>\n",
       "  </thead>\n",
       "  <tbody>\n",
       "    <tr>\n",
       "      <th>0</th>\n",
       "      <td>Dog</td>\n",
       "      <td>Yellow</td>\n",
       "      <td>1</td>\n",
       "    </tr>\n",
       "    <tr>\n",
       "      <th>1</th>\n",
       "      <td>Cat</td>\n",
       "      <td>Pink</td>\n",
       "      <td>3</td>\n",
       "    </tr>\n",
       "  </tbody>\n",
       "</table>\n",
       "</div>"
      ],
      "text/plain": [
       "  Aminal   Color  Age\n",
       "0    Dog  Yellow    1\n",
       "1    Cat    Pink    3"
      ]
     },
     "metadata": {},
     "output_type": "display_data"
    },
    {
     "name": "stdout",
     "output_type": "stream",
     "text": [
      "------------------------------------\n",
      "Age of Dog: 1 \n",
      "\n",
      "------------------------------------\n",
      "Age Column:\n"
     ]
    },
    {
     "data": {
      "text/html": [
       "<div>\n",
       "<style scoped>\n",
       "    .dataframe tbody tr th:only-of-type {\n",
       "        vertical-align: middle;\n",
       "    }\n",
       "\n",
       "    .dataframe tbody tr th {\n",
       "        vertical-align: top;\n",
       "    }\n",
       "\n",
       "    .dataframe thead th {\n",
       "        text-align: right;\n",
       "    }\n",
       "</style>\n",
       "<table border=\"1\" class=\"dataframe\">\n",
       "  <thead>\n",
       "    <tr style=\"text-align: right;\">\n",
       "      <th></th>\n",
       "      <th>Age</th>\n",
       "    </tr>\n",
       "  </thead>\n",
       "  <tbody>\n",
       "    <tr>\n",
       "      <th>0</th>\n",
       "      <td>1</td>\n",
       "    </tr>\n",
       "    <tr>\n",
       "      <th>1</th>\n",
       "      <td>3</td>\n",
       "    </tr>\n",
       "  </tbody>\n",
       "</table>\n",
       "</div>"
      ],
      "text/plain": [
       "   Age\n",
       "0    1\n",
       "1    3"
      ]
     },
     "metadata": {},
     "output_type": "display_data"
    },
    {
     "name": "stdout",
     "output_type": "stream",
     "text": [
      "------------------------------------\n",
      "Age of Cat: 3 \n",
      "\n",
      "------------------------------------\n",
      "Dog row:\n",
      "Aminal       Dog\n",
      "Color     Yellow\n",
      "Age            1\n",
      "Name: 0, dtype: object \n",
      "\n",
      "------------------------------------\n",
      "Animals' age:\n",
      "0    1\n",
      "1    3\n",
      "Name: Age, dtype: int64 \n",
      "\n",
      "------------------------------------\n",
      "Age of Cat:  3\n"
     ]
    }
   ],
   "source": [
    "# Few ways to view the values\n",
    "\n",
    "# Create a data frame based on data_2; the values are copied\n",
    "df_4 = pd.DataFrame(data=data_2)\n",
    "print(\"df_4:\")\n",
    "display(df_4)\n",
    "print(\"------------------------------------\")\n",
    "\n",
    "# Selection by Label\n",
    "    # Getting the scalar value\n",
    "dog_age = df_4.loc[0, 'Age']\n",
    "print(\"Age of Dog:\", dog_age, '\\n')\n",
    "print(\"------------------------------------\")\n",
    "\n",
    "    # Getting the whole column \n",
    "aminals_age = df_4.loc[:, ['Age']]\n",
    "print(\"Age Column:\")\n",
    "display(aminals_age)\n",
    "print(\"------------------------------------\")\n",
    "\n",
    "    # Faster way to get a scalar\n",
    "cat_age = df_4.at[1, 'Age']\n",
    "print(\"Age of Cat:\", cat_age, '\\n')\n",
    "print(\"------------------------------------\")\n",
    "\n",
    "# Selection by position\n",
    "    # Selecting Row based on row number\n",
    "dog = df_4.iloc[0]\n",
    "print(\"Dog row:\")\n",
    "print(dog, '\\n')\n",
    "print(\"------------------------------------\")\n",
    "\n",
    "    # Selecting Col based on col number\n",
    "animals_age_p = df_4.iloc[:, 2]\n",
    "print(\"Animals' age:\")\n",
    "print(animals_age_p, '\\n')\n",
    "print(\"------------------------------------\")\n",
    "    # Selecting cell based on col number\n",
    "cat_age_p = df_4.iat[1, 2]\n",
    "print(\"Age of Cat: \", cat_age_p)"
   ]
  },
  {
   "cell_type": "markdown",
   "metadata": {},
   "source": [
    "#### Now it's your turn.\n",
    "**To-do:**\n",
    "\n",
    "1. Add a new **row** to your **demographics** data frame. The new row will contain information of another friend. *Note that we haven't taught you how to do so but you should be able to find resources online easily.* Print/display the data frame.\n",
    "2. Print all the information (whole row) about you using `.loc`.\n",
    "3. Print the 'Name' of your second friend using `.iat`.\n"
   ]
  },
  {
   "cell_type": "code",
   "execution_count": 12,
   "metadata": {},
   "outputs": [
    {
     "name": "stdout",
     "output_type": "stream",
     "text": [
      "             Name  Age  Height                    Hobby\n",
      "0            Rick   41      70                      IoT\n",
      "1            Bert   31      12                  Puppets\n",
      "2           Ernie   31       2                  Puppets\n",
      "3        Big Bird   12      86  Snuffleupagus Sightings\n",
      "4  Jerry Seinfeld   65      74                   Comedy\n",
      "\n",
      "Myself\n",
      "=======\n",
      "Name      Rick\n",
      "Age         41\n",
      "Height      70\n",
      "Hobby      IoT\n",
      "Name: 0, dtype: object\n",
      "\n",
      "\n",
      "\n",
      "My 2nd Friend\n",
      "=====\n",
      "Ernie\n"
     ]
    }
   ],
   "source": [
    "### Insert your code below ###\n",
    "new_friends = friends.append({\"Name\": \"Jerry Seinfeld\", \"Age\": 65, \"Height\": 74, \"Hobby\": \"Comedy\"}, ignore_index=True)\n",
    "print(new_friends)\n",
    "print(\"\\nMyself\\n=======\")\n",
    "print(new_friends.loc[0])\n",
    "print(\"\\n\\n\\nMy 2nd Friend\\n=====\")\n",
    "print(new_friends.loc[2].iat[0])"
   ]
  },
  {
   "cell_type": "markdown",
   "metadata": {},
   "source": [
    "**Congradulation on finishing the tutorial! Now you can move on to the next step of the lab.**"
   ]
  }
 ],
 "metadata": {
  "kernelspec": {
   "display_name": "Python 3",
   "language": "python",
   "name": "python3"
  },
  "language_info": {
   "codemirror_mode": {
    "name": "ipython",
    "version": 3
   },
   "file_extension": ".py",
   "mimetype": "text/x-python",
   "name": "python",
   "nbconvert_exporter": "python",
   "pygments_lexer": "ipython3",
   "version": "3.8.5"
  }
 },
 "nbformat": 4,
 "nbformat_minor": 4
}
